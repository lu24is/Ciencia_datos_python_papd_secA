{
 "cells": [
  {
   "cell_type": "markdown",
   "id": "10bcf6b4-1171-45aa-b2b6-dcfe8a954a4b",
   "metadata": {},
   "source": [
    "# Ejercicio 4"
   ]
  },
  {
   "cell_type": "code",
   "execution_count": null,
   "id": "51eb0459-9870-466f-ada4-0bcc2d427b78",
   "metadata": {
    "tags": []
   },
   "outputs": [],
   "source": [
    "numero = int(input(\"Ingrese un número mayor que 0: \"))\n",
    "   \n",
    "def factores(numero):\n",
    "    factor = 1\n",
    "    print(\"Factores:\", end=\" \")\n",
    "    while factor <= numero:\n",
    "        if numero % factor == 0:\n",
    "            print(factor, end=\" \")\n",
    "        factor += 1\n",
    "        \n",
    "factores(numero)"
   ]
  }
 ],
 "metadata": {
  "kernelspec": {
   "display_name": "Python 3 (ipykernel)",
   "language": "python",
   "name": "python3"
  },
  "language_info": {
   "codemirror_mode": {
    "name": "ipython",
    "version": 3
   },
   "file_extension": ".py",
   "mimetype": "text/x-python",
   "name": "python",
   "nbconvert_exporter": "python",
   "pygments_lexer": "ipython3",
   "version": "3.11.5"
  }
 },
 "nbformat": 4,
 "nbformat_minor": 5
}
