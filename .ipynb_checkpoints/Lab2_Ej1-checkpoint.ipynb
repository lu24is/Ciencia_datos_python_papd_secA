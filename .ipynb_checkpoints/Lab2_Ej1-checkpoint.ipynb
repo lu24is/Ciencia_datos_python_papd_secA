{
 "cells": [
  {
   "cell_type": "markdown",
   "id": "278b358f-354c-45d9-9cdd-446f3dcec1db",
   "metadata": {},
   "source": [
    "# Ejercicio 1"
   ]
  },
  {
   "cell_type": "code",
   "execution_count": 2,
   "id": "41c2f859-4f4a-48ed-a362-3cb8f89bbec0",
   "metadata": {
    "tags": []
   },
   "outputs": [
    {
     "name": "stdin",
     "output_type": "stream",
     "text": [
      "Ingrese la cantidad de segundos:  4564\n"
     ]
    },
    {
     "name": "stdout",
     "output_type": "stream",
     "text": [
      "Horas: 1\n",
      "Minutos: 16\n",
      "Segundos: 4\n"
     ]
    }
   ],
   "source": [
    "segundos = int(input(\"Ingrese la cantidad de segundos: \"))\n",
    "\n",
    "def conversor(segundos):\n",
    "    horas = segundos // 3600\n",
    "    segundos_restantes = segundos % 3600\n",
    "    minutos = segundos_restantes // 60\n",
    "    segundos_restantes_final = segundos_restantes % 60\n",
    "    print(\"Horas:\", horas)\n",
    "    print(\"Minutos:\", minutos)\n",
    "    print(\"Segundos:\", segundos_restantes_final)\n",
    "\n",
    "conversor(segundos)"
   ]
  }
 ],
 "metadata": {
  "kernelspec": {
   "display_name": "Python 3 (ipykernel)",
   "language": "python",
   "name": "python3"
  },
  "language_info": {
   "codemirror_mode": {
    "name": "ipython",
    "version": 3
   },
   "file_extension": ".py",
   "mimetype": "text/x-python",
   "name": "python",
   "nbconvert_exporter": "python",
   "pygments_lexer": "ipython3",
   "version": "3.11.5"
  }
 },
 "nbformat": 4,
 "nbformat_minor": 5
}
