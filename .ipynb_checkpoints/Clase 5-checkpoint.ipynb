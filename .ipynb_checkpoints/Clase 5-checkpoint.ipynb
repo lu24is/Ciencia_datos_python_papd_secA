{
 "cells": [
  {
   "cell_type": "markdown",
   "id": "8216ee75-08ab-42af-9af7-093e067e9d9f",
   "metadata": {},
   "source": [
    "# 1. Diccionarios"
   ]
  },
  {
   "cell_type": "markdown",
   "id": "c27a02d5-6686-4eb6-b29a-0a7fcc46d450",
   "metadata": {},
   "source": [
    "Un diccionario es una estructura de datos que te permite almacenar y organizar datos en forma de pares llave-valor."
   ]
  },
  {
   "cell_type": "markdown",
   "id": "9b6ce5b2-c478-4782-aebb-42d07e6c0df4",
   "metadata": {},
   "source": [
    "### Algunas caracteristicas:\n",
    "1. Pares llave-valor: Cada elemento en un diccionario tiene una llave única que se asocia con un valor. Las llaves pueden ser cadenas de texto, números, booleanos o incluso otros diccionarios. Los valores pueden ser cualquier tipo de dato en Python.\n",
    "2. Acceso rápido: Los diccionarios son muy eficientes para acceder a datos por su llave. Puedes usar la sintaxis diccionariollave para obtener el valor asociado a una llave específica.\n",
    "3. Modificables: Puedes agregar, eliminar o modificar elementos en un diccionario de forma dinámica.\n",
    "4. No ordenados: Los diccionarios no son ordenados por defecto,"
   ]
  },
  {
   "cell_type": "markdown",
   "id": "5ee3dc57-4a90-4261-9f3e-f8387b79790f",
   "metadata": {},
   "source": [
    "### Creando diccionarios:"
   ]
  },
  {
   "cell_type": "code",
   "execution_count": 1,
   "id": "380fb76c-6ca3-4b24-9aa5-b27e10a51bd9",
   "metadata": {
    "tags": []
   },
   "outputs": [
    {
     "data": {
      "text/plain": [
       "{'nombre': 'Luis', 'Edad': 34, 'Pais': 'Guatemala'}"
      ]
     },
     "execution_count": 1,
     "metadata": {},
     "output_type": "execute_result"
    }
   ],
   "source": [
    "mi_diccionario = {\"nombre\": \"Luis\", \"Edad\": 34, \"Pais\": \"Guatemala\"}\n",
    "mi_diccionario"
   ]
  },
  {
   "cell_type": "code",
   "execution_count": 3,
   "id": "f9a652d7-8d49-473d-afd3-8af91fc878c3",
   "metadata": {
    "tags": []
   },
   "outputs": [
    {
     "data": {
      "text/plain": [
       "{'USD': 61368.88, 'JPY': 9215965.99, 'EUR': 56673.62}"
      ]
     },
     "execution_count": 3,
     "metadata": {},
     "output_type": "execute_result"
    }
   ],
   "source": [
    "# JSON: JavaScript Object Notation (son diccionarios)\n",
    "# API: Application Programming Interface\n",
    "{\n",
    "    \"USD\": 61368.88,\n",
    "    \"JPY\": 9215965.99,\n",
    "    \"EUR\": 56673.62\n",
    "}"
   ]
  },
  {
   "cell_type": "code",
   "execution_count": 4,
   "id": "1467f85d-fb80-499a-8edb-37fdc1ef49a4",
   "metadata": {
    "tags": []
   },
   "outputs": [
    {
     "data": {
      "text/plain": [
       "{'Nombre': 'Luis',\n",
       " 'Apellido': 'Barrientos',\n",
       " 'Edad': 34,\n",
       " 'Programa': 'PAPD',\n",
       " 'Notas': {'CDP': 95, 'DCDW': 98, 'EA1': 85}}"
      ]
     },
     "execution_count": 4,
     "metadata": {},
     "output_type": "execute_result"
    }
   ],
   "source": [
    "alumno = {\"Nombre\": \"Luis\",\n",
    "          \"Apellido\": \"Barrientos\",\n",
    "          \"Edad\": 34, \n",
    "          \"Programa\": \"PAPD\",\n",
    "          \"Notas\": {\n",
    "              \"CDP\": 95,\n",
    "              \"DCDW\": 98,\n",
    "              \"EA1\": 85\n",
    "          }\n",
    "         }\n",
    "alumno"
   ]
  },
  {
   "cell_type": "code",
   "execution_count": 8,
   "id": "0d764439-08ee-4a41-bae5-d7bed30566ce",
   "metadata": {
    "tags": []
   },
   "outputs": [
    {
     "data": {
      "text/plain": [
       "'Luis'"
      ]
     },
     "execution_count": 8,
     "metadata": {},
     "output_type": "execute_result"
    }
   ],
   "source": [
    "alumno['Nombre']"
   ]
  },
  {
   "cell_type": "code",
   "execution_count": 9,
   "id": "64f56a3b-cf1e-47f0-b20e-36ada98b3585",
   "metadata": {
    "tags": []
   },
   "outputs": [
    {
     "data": {
      "text/plain": [
       "85"
      ]
     },
     "execution_count": 9,
     "metadata": {},
     "output_type": "execute_result"
    }
   ],
   "source": [
    "alumno['Notas'][\"EA1\"]"
   ]
  },
  {
   "cell_type": "code",
   "execution_count": 10,
   "id": "23950423-a1c1-4cd9-ba67-0f7c5365fac0",
   "metadata": {
    "tags": []
   },
   "outputs": [
    {
     "data": {
      "text/plain": [
       "dict"
      ]
     },
     "execution_count": 10,
     "metadata": {},
     "output_type": "execute_result"
    }
   ],
   "source": [
    "type(alumno)"
   ]
  },
  {
   "cell_type": "code",
   "execution_count": 11,
   "id": "fc5bf9ad-f78e-4748-a707-6e41d3ab79cd",
   "metadata": {
    "tags": []
   },
   "outputs": [
    {
     "data": {
      "text/plain": [
       "{'SVM': 0.89, 'ANN': 0.98, 'KNN': 0.98}"
      ]
     },
     "execution_count": 11,
     "metadata": {},
     "output_type": "execute_result"
    }
   ],
   "source": [
    "# Otra forma de crear diccionarios\n",
    "metricas_modelos =  dict(SVM = 0.89, ANN = 0.98, KNN = 0.98)\n",
    "metricas_modelos"
   ]
  },
  {
   "cell_type": "markdown",
   "id": "150a46d9-8431-4f8f-bd75-a0047049351a",
   "metadata": {},
   "source": [
    "### Operaciones"
   ]
  },
  {
   "cell_type": "code",
   "execution_count": null,
   "id": "373c433f-d3bc-4181-9df1-09fd43726f34",
   "metadata": {
    "tags": []
   },
   "outputs": [],
   "source": [
    "# Eliminar elementos de un diccionario\n",
    "del metricas_modelos ['KNN']\n",
    "metricas_modelos"
   ]
  },
  {
   "cell_type": "code",
   "execution_count": 15,
   "id": "f1839c34-710b-48a9-b786-e01bbf314cee",
   "metadata": {
    "tags": []
   },
   "outputs": [
    {
     "data": {
      "text/plain": [
       "{'SVM': 0.89, 'ANN': 0.98, 'LASSO': 0.95}"
      ]
     },
     "execution_count": 15,
     "metadata": {},
     "output_type": "execute_result"
    }
   ],
   "source": [
    "# Agregar nuevos elementos al diccionario\n",
    "metricas_modelos['LASSO'] = 0.95\n",
    "metricas_modelos"
   ]
  },
  {
   "cell_type": "code",
   "execution_count": 16,
   "id": "e62d8a37-627a-4299-95f6-3e73def8d2f4",
   "metadata": {
    "tags": []
   },
   "outputs": [
    {
     "data": {
      "text/plain": [
       "{'SVM': 0.94, 'ANN': 0.98, 'LASSO': 0.95}"
      ]
     },
     "execution_count": 16,
     "metadata": {},
     "output_type": "execute_result"
    }
   ],
   "source": [
    "# Modificamos elementos dentro del diccionario\n",
    "metricas_modelos['SVM'] = 0.94\n",
    "metricas_modelos"
   ]
  },
  {
   "cell_type": "code",
   "execution_count": 18,
   "id": "887becf6-6ea3-4d31-8c1d-3bec8053d0bb",
   "metadata": {
    "tags": []
   },
   "outputs": [
    {
     "data": {
      "text/plain": [
       "['SVM', 'ANN', 'LASSO']"
      ]
     },
     "execution_count": 18,
     "metadata": {},
     "output_type": "execute_result"
    }
   ],
   "source": [
    "# Obtenemos solo las llaves\n",
    "list(metricas_modelos.keys())"
   ]
  },
  {
   "cell_type": "code",
   "execution_count": 19,
   "id": "ed1f6803-9585-425b-b8de-3f36a1a22ccd",
   "metadata": {
    "tags": []
   },
   "outputs": [
    {
     "data": {
      "text/plain": [
       "[0.94, 0.98, 0.95]"
      ]
     },
     "execution_count": 19,
     "metadata": {},
     "output_type": "execute_result"
    }
   ],
   "source": [
    "# Obtenemos solo los valores\n",
    "list(metricas_modelos.values())"
   ]
  },
  {
   "cell_type": "code",
   "execution_count": 23,
   "id": "c9654963-5cce-44ba-9e4f-1edea73ef356",
   "metadata": {
    "tags": []
   },
   "outputs": [],
   "source": [
    "# Obtenemos una lista de tublas de los pares/items\n",
    "pares = list(metricas_modelos.items())"
   ]
  },
  {
   "cell_type": "code",
   "execution_count": 25,
   "id": "b90b21fd-29ad-432f-9d4e-76481f7e0ad4",
   "metadata": {
    "tags": []
   },
   "outputs": [
    {
     "data": {
      "text/plain": [
       "0.94"
      ]
     },
     "execution_count": 25,
     "metadata": {},
     "output_type": "execute_result"
    }
   ],
   "source": [
    "pares[0][1]"
   ]
  },
  {
   "cell_type": "code",
   "execution_count": 26,
   "id": "c0184bd6-02db-4001-b155-a68a4e964945",
   "metadata": {
    "tags": []
   },
   "outputs": [
    {
     "data": {
      "text/plain": [
       "('SVM', 0.94)"
      ]
     },
     "execution_count": 26,
     "metadata": {},
     "output_type": "execute_result"
    }
   ],
   "source": [
    "pares[0]"
   ]
  },
  {
   "cell_type": "markdown",
   "id": "e577bcc8-b3f4-4d9d-b10e-f601ec42c8e9",
   "metadata": {},
   "source": [
    "Los resultados obtenidos, según como se despliegue, es:\n",
    "\n",
    "Tuplas en parentesis (.,.,.)\n",
    "\n",
    "Diccionarios en corchetes {:.:.:.}\n",
    "\n",
    "Listas en braquets cuadrados [.,.,.]\n",
    "\n",
    "Set de datos {.,.,.}"
   ]
  },
  {
   "cell_type": "code",
   "execution_count": 27,
   "id": "b74defb7-8f58-4d09-8c0a-d5bad7aa12f8",
   "metadata": {
    "tags": []
   },
   "outputs": [],
   "source": [
    "### Generación de códigos"
   ]
  },
  {
   "cell_type": "code",
   "execution_count": 28,
   "id": "be953207-0594-42ed-9605-335e3e894a67",
   "metadata": {
    "tags": []
   },
   "outputs": [],
   "source": [
    "import random"
   ]
  },
  {
   "cell_type": "code",
   "execution_count": 40,
   "id": "439988bb-5f46-4be6-a857-daf064f3cd74",
   "metadata": {
    "tags": []
   },
   "outputs": [
    {
     "name": "stdout",
     "output_type": "stream",
     "text": [
      "M9V7U3H4V0P5E7\n",
      "35\n"
     ]
    }
   ],
   "source": [
    "codigo = ''\n",
    "suma = 0\n",
    "categoria = ''\n",
    "\n",
    "for i in range(0,7):\n",
    "    letra = chr(random.randint(65, 90)) #Convertimos numero a caracter ascii\n",
    "    valor = random.randint(0,9)\n",
    "    suma = suma + valor\n",
    "    codigo = codigo + letra + str(valor)\n",
    "    \n",
    "print(codigo)\n",
    "print(suma)\n",
    "\n",
    "if(suma >= 35):\n",
    "    categoria = 'A'\n",
    "elif((suma >= 16) and (suma < 35)):\n",
    "    categoria = 'B'\n",
    "else:\n",
    "    categoria = 'C'\n",
    "    \n",
    "dict_codigo = dict(codigo = codigo, categoria = categoria)\n",
    "dict_codigo\n",
    "\n",
    "with open(\"codigos.json\", \"a\") as archivo:\n",
    "    archivo.write(str(dict_codigo) + \"\\n\")"
   ]
  },
  {
   "cell_type": "markdown",
   "id": "5f37fa7f-33a3-4f57-840b-a79a403d24e5",
   "metadata": {},
   "source": [
    "# 2. Numpy"
   ]
  },
  {
   "cell_type": "code",
   "execution_count": 45,
   "id": "e96a1d09-6685-482a-9ccb-e092a45f24f0",
   "metadata": {
    "tags": []
   },
   "outputs": [
    {
     "name": "stdout",
     "output_type": "stream",
     "text": [
      "Collecting package metadata (current_repodata.json): ...working... done\n",
      "Solving environment: ...working... done\n",
      "\n",
      "# All requested packages already installed.\n",
      "\n",
      "\n",
      "Note: you may need to restart the kernel to use updated packages.\n"
     ]
    },
    {
     "name": "stderr",
     "output_type": "stream",
     "text": [
      "\n",
      "\n",
      "==> WARNING: A newer version of conda exists. <==\n",
      "  current version: 23.7.4\n",
      "  latest version: 24.1.2\n",
      "\n",
      "Please update conda by running\n",
      "\n",
      "    $ conda update -n base -c defaults conda\n",
      "\n",
      "Or to minimize the number of packages updated during conda update use\n",
      "\n",
      "     conda install conda=24.1.2\n",
      "\n",
      "\n"
     ]
    }
   ],
   "source": [
    "conda install numpy --yes"
   ]
  },
  {
   "cell_type": "code",
   "execution_count": null,
   "id": "7b4c0bd5-e801-429b-a3bd-f2b164e931e9",
   "metadata": {
    "tags": []
   },
   "outputs": [],
   "source": [
    "conda install conda=24.1.2"
   ]
  },
  {
   "cell_type": "markdown",
   "id": "728ba776-d5fd-47c5-9a83-3ae0197ae701",
   "metadata": {},
   "source": [
    "NumPy (abreviatura de Numerical Python) es una libraria de código abierto para el lenguaje de programación Python que se utiliza para la computación científica de tensores.\n",
    "\n",
    "Es la base de muchas otras liabrerias de Python para el análisis de datos, como Pandas, SciPy, Matplotlib, SciKit Learn, Tensorflow, OpenCV entre otras."
   ]
  },
  {
   "cell_type": "code",
   "execution_count": 2,
   "id": "44496f50-dd35-46ba-834e-fc4df7bf3a5a",
   "metadata": {
    "tags": []
   },
   "outputs": [],
   "source": [
    "import numpy as np"
   ]
  },
  {
   "cell_type": "markdown",
   "id": "5027ad8f-9e6b-4d19-b4ac-5d6e7b40ea86",
   "metadata": {},
   "source": [
    "1. Arrays multidimensionales: NumPy ofrece una estructura de datos llamada ndarray que permite trabajar con arrays multidimensionales de forma eficiente.\n",
    "2. Funciones matemáticas: NumPy incluye una amplia gama de funciones matemáticas para realizar operaciones con arrays, como suma, resta, multiplicación, división, cálculo de raíces cuadradas, etc.\n",
    "3. Optimización: El código de NumPy está optimizado para ofrecer un alto rendimiento en operaciones con arrays."
   ]
  },
  {
   "cell_type": "code",
   "execution_count": 5,
   "id": "48a537b3-9347-4790-b993-ff9db0d13b23",
   "metadata": {
    "tags": []
   },
   "outputs": [
    {
     "data": {
      "text/plain": [
       "array([10, 20, 30, 40, 50, 60])"
      ]
     },
     "execution_count": 5,
     "metadata": {},
     "output_type": "execute_result"
    }
   ],
   "source": [
    "# creamos un arreglo de numpy\n",
    "# tipo: int, float, bool, str\n",
    "\n",
    "x = np.array([10, 20, 30, 40, 50, 60])\n",
    "x"
   ]
  },
  {
   "cell_type": "code",
   "execution_count": 8,
   "id": "3d9e5a52-49dd-409f-9453-d38e7b090e97",
   "metadata": {
    "tags": []
   },
   "outputs": [
    {
     "data": {
      "text/plain": [
       "array([1, 2, 3, 4, 5, 6, 7, 8, 9])"
      ]
     },
     "execution_count": 8,
     "metadata": {},
     "output_type": "execute_result"
    }
   ],
   "source": [
    "# creamos arreglo en secuencia con step\n",
    "y = np.arange(1, 10, 1)\n",
    "y"
   ]
  },
  {
   "cell_type": "code",
   "execution_count": 9,
   "id": "60302191-65b9-43ff-8b77-2bc6602fb0e0",
   "metadata": {
    "tags": []
   },
   "outputs": [
    {
     "data": {
      "text/plain": [
       "array([ 1.        ,  1.47368421,  1.94736842,  2.42105263,  2.89473684,\n",
       "        3.36842105,  3.84210526,  4.31578947,  4.78947368,  5.26315789,\n",
       "        5.73684211,  6.21052632,  6.68421053,  7.15789474,  7.63157895,\n",
       "        8.10526316,  8.57894737,  9.05263158,  9.52631579, 10.        ])"
      ]
     },
     "execution_count": 9,
     "metadata": {},
     "output_type": "execute_result"
    }
   ],
   "source": [
    "# creamos arreglo en secuencia generando 20 valores dentro del rango de 1 a 10\n",
    "z = np.linspace(1, 10, 20)\n",
    "z"
   ]
  },
  {
   "cell_type": "code",
   "execution_count": 14,
   "id": "fbf1e468-8892-43e0-9933-90df7f1c5d04",
   "metadata": {
    "tags": []
   },
   "outputs": [
    {
     "data": {
      "text/plain": [
       "array([[1., 1., 1., 1., 1., 1., 1., 1., 1., 1.],\n",
       "       [1., 1., 1., 1., 1., 1., 1., 1., 1., 1.],\n",
       "       [1., 1., 1., 1., 1., 1., 1., 1., 1., 1.],\n",
       "       [1., 1., 1., 1., 1., 1., 1., 1., 1., 1.],\n",
       "       [1., 1., 1., 1., 1., 1., 1., 1., 1., 1.],\n",
       "       [1., 1., 1., 1., 1., 1., 1., 1., 1., 1.],\n",
       "       [1., 1., 1., 1., 1., 1., 1., 1., 1., 1.],\n",
       "       [1., 1., 1., 1., 1., 1., 1., 1., 1., 1.],\n",
       "       [1., 1., 1., 1., 1., 1., 1., 1., 1., 1.],\n",
       "       [1., 1., 1., 1., 1., 1., 1., 1., 1., 1.]])"
      ]
     },
     "execution_count": 14,
     "metadata": {},
     "output_type": "execute_result"
    }
   ],
   "source": [
    "# w = np.zeros((10,10)) tambien se puede con ceros\n",
    "w = np.ones((10,10))\n",
    "w"
   ]
  },
  {
   "cell_type": "code",
   "execution_count": 15,
   "id": "636cc035-42d8-43b4-bc81-80599098e484",
   "metadata": {
    "tags": []
   },
   "outputs": [
    {
     "name": "stdout",
     "output_type": "stream",
     "text": [
      "conda 23.7.4\n",
      "\n",
      "Note: you may need to restart the kernel to use updated packages.\n"
     ]
    }
   ],
   "source": []
  }
 ],
 "metadata": {
  "kernelspec": {
   "display_name": "Python 3 (ipykernel)",
   "language": "python",
   "name": "python3"
  },
  "language_info": {
   "codemirror_mode": {
    "name": "ipython",
    "version": 3
   },
   "file_extension": ".py",
   "mimetype": "text/x-python",
   "name": "python",
   "nbconvert_exporter": "python",
   "pygments_lexer": "ipython3",
   "version": "3.11.5"
  }
 },
 "nbformat": 4,
 "nbformat_minor": 5
}
