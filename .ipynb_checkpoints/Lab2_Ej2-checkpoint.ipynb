{
 "cells": [
  {
   "cell_type": "markdown",
   "id": "a705f0c9-6e9c-47d4-ba33-522671aafffd",
   "metadata": {},
   "source": [
    "# Ejercicio 2"
   ]
  },
  {
   "cell_type": "code",
   "execution_count": 7,
   "id": "2482534a-51cc-4936-afcf-5b77b5d478b4",
   "metadata": {
    "tags": []
   },
   "outputs": [
    {
     "name": "stdin",
     "output_type": "stream",
     "text": [
      "Ingrese la calificación:  100\n"
     ]
    },
    {
     "name": "stdout",
     "output_type": "stream",
     "text": [
      "SOBRESALIENTE\n"
     ]
    }
   ],
   "source": [
    "nota = float(input(\"Ingrese la calificación: \"))\n",
    "\n",
    "def mensaje(nota):\n",
    "    if nota < 50:\n",
    "        print(\"INSUFICIENTE\")\n",
    "    elif 50 <= nota <= 60:\n",
    "        print(\"REGULAR\")\n",
    "    elif 60 < nota <= 70:\n",
    "        print(\"BIEN\")\n",
    "    elif 70 < nota <= 90:\n",
    "        print(\"MUY BIEN\")\n",
    "    elif 90 < nota <= 100:\n",
    "        print(\"SOBRESALIENTE\")\n",
    "    else:\n",
    "        print(\"Nota fuera de rango\")\n",
    "\n",
    "def diferencia(nota):\n",
    "    diferencia = 71 - nota\n",
    "    if diferencia > 0:\n",
    "        print(f\"Falta(n) {diferencia} punto(s) para aprobar.\")\n",
    "    \n",
    "mensaje(nota)\n",
    "if nota < 71:\n",
    "    diferencia(nota)"
   ]
  }
 ],
 "metadata": {
  "kernelspec": {
   "display_name": "Python 3 (ipykernel)",
   "language": "python",
   "name": "python3"
  },
  "language_info": {
   "codemirror_mode": {
    "name": "ipython",
    "version": 3
   },
   "file_extension": ".py",
   "mimetype": "text/x-python",
   "name": "python",
   "nbconvert_exporter": "python",
   "pygments_lexer": "ipython3",
   "version": "3.11.5"
  }
 },
 "nbformat": 4,
 "nbformat_minor": 5
}
