{
 "cells": [
  {
   "cell_type": "markdown",
   "id": "a599e916-e483-4fab-ab9b-d786f31eb3d1",
   "metadata": {},
   "source": [
    "# Ejercicio 5"
   ]
  },
  {
   "cell_type": "code",
   "execution_count": null,
   "id": "653effc1-3842-475f-b9bf-d7582ffb5b45",
   "metadata": {
    "tags": []
   },
   "outputs": [],
   "source": [
    "from datetime import datetime\n",
    "\n",
    "dia_nacimiento = int(input(\"Ingrese el día de nacimiento (1-31): \"))\n",
    "mes_nacimiento = int(input(\"Ingrese el mes de nacimiento (1-12): \"))\n",
    "anio_nacimiento = int(input(\"Ingrese el año de nacimiento (ej. 1990): \"))\n",
    "\n",
    "\n",
    "def calculo(dia_nacimiento, mes_nacimiento, anio_nacimiento):\n",
    "    hoy = datetime.now()\n",
    "    nacimiento = datetime(anio_nacimiento, mes_nacimiento, dia_nacimiento)\n",
    "    edad = hoy - nacimiento\n",
    "\n",
    "    anios = edad.days // 365\n",
    "    meses = (edad.days % 365) // 30\n",
    "    dias = (edad.days % 365) % 30\n",
    "\n",
    "    return anios, meses, dias\n",
    "\n",
    "anios, meses, dias = calculo(dia_nacimiento, mes_nacimiento, anio_nacimiento)\n",
    "print(\"Edad:\")\n",
    "print(f\"Años: {anios}\")\n",
    "print(f\"Meses: {meses}\")\n",
    "print(f\"Días: {dias}\")\n"
   ]
  }
 ],
 "metadata": {
  "kernelspec": {
   "display_name": "Python 3 (ipykernel)",
   "language": "python",
   "name": "python3"
  },
  "language_info": {
   "codemirror_mode": {
    "name": "ipython",
    "version": 3
   },
   "file_extension": ".py",
   "mimetype": "text/x-python",
   "name": "python",
   "nbconvert_exporter": "python",
   "pygments_lexer": "ipython3",
   "version": "3.11.5"
  }
 },
 "nbformat": 4,
 "nbformat_minor": 5
}
