{
 "cells": [
  {
   "cell_type": "markdown",
   "id": "3455e185-0f58-4be4-8525-7372a959fe4e",
   "metadata": {},
   "source": [
    "# Ejercicio 3"
   ]
  },
  {
   "cell_type": "code",
   "execution_count": null,
   "id": "9ac2c68f-ee82-41cb-a473-633543ce3179",
   "metadata": {
    "tags": []
   },
   "outputs": [],
   "source": [
    "num1 = int(input(\"Ingrese el primer número (mayor): \"))\n",
    "num2 = int(input(\"Ingrese el segundo número: \"))\n",
    "\n",
    "def nums(num1, num2):\n",
    "    suma = 0\n",
    "    for i in range(num1, num2 - 1, -1):\n",
    "        suma += i\n",
    "    return suma\n",
    "\n",
    "if num1 <= num2:\n",
    "    print(\"Error: El primer número debe ser mayor que el segundo.\")\n",
    "else:\n",
    "    resultado = nums(num1, num2)\n",
    "    print(f\"La suma de todos los números entre {num1} y {num2} es: {resultado}\")"
   ]
  }
 ],
 "metadata": {
  "kernelspec": {
   "display_name": "Python 3 (ipykernel)",
   "language": "python",
   "name": "python3"
  },
  "language_info": {
   "codemirror_mode": {
    "name": "ipython",
    "version": 3
   },
   "file_extension": ".py",
   "mimetype": "text/x-python",
   "name": "python",
   "nbconvert_exporter": "python",
   "pygments_lexer": "ipython3",
   "version": "3.11.5"
  }
 },
 "nbformat": 4,
 "nbformat_minor": 5
}
