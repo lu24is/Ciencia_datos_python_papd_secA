{
 "cells": [
  {
   "cell_type": "markdown",
   "id": "0e7b5012-0945-4511-9933-237024f2b87c",
   "metadata": {},
   "source": [
    "# Laboratorio 2"
   ]
  },
  {
   "cell_type": "markdown",
   "id": "cc4d746d-3164-484b-a930-133e724faee0",
   "metadata": {
    "tags": []
   },
   "source": [
    "## Ejercicio 1"
   ]
  },
  {
   "cell_type": "code",
   "execution_count": null,
   "id": "1abb4702-e92e-4b98-b242-f86949018947",
   "metadata": {
    "tags": []
   },
   "outputs": [],
   "source": [
    "segundos = int(input(\"Ingrese la cantidad de segundos: \"))\n",
    "conversor(segundos)\n",
    "\n",
    "def conversor(segundos):\n",
    "    horas = segundos // 3600\n",
    "    segundos_restantes = segundos % 3600\n",
    "    minutos = segundos_restantes // 60\n",
    "    segundos_restantes_final = segundos_restantes % 60\n",
    "    print(\"Horas:\", horas)\n",
    "    print(\"Minutos:\", minutos)\n",
    "    print(\"Segundos:\", segundos_restantes_final)\n",
    "\n",
    "\n",
    "\n"
   ]
  },
  {
   "cell_type": "markdown",
   "id": "5a4d338f-20ec-4905-b68d-02f48afcda40",
   "metadata": {},
   "source": [
    "## Ejercicio 2"
   ]
  },
  {
   "cell_type": "code",
   "execution_count": null,
   "id": "c4c10bef-ef01-4616-9bf7-42819ed727e1",
   "metadata": {
    "tags": []
   },
   "outputs": [],
   "source": [
    "nota = float(input(\"Ingrese la calificación: \"))\n",
    "mensaje(nota)\n",
    "if nota < 71:\n",
    "    diferencia(nota)\n",
    "\n",
    "def mensaje(nota):\n",
    "    if nota < 50:\n",
    "        print(\"INSUFICIENTE\")\n",
    "    elif 50 <= nota <= 60:\n",
    "        print(\"REGULAR\")\n",
    "    elif 60 < nota <= 70:\n",
    "        print(\"BIEN\")\n",
    "    elif 70 < nota <= 90:\n",
    "        print(\"MUY BIEN\")\n",
    "    elif 90 < nota <= 100:\n",
    "        print(\"SOBRESALIENTE\")\n",
    "    else:\n",
    "        print(\"Nota fuera de rango\")\n",
    "\n",
    "def diferencia(nota):\n",
    "    diferencia = 71 - nota\n",
    "    if diferencia > 0:\n",
    "        print(f\"Falta(n) {diferencia} punto(s) para aprobar.\")\n",
    "    else:\n",
    "        print(\"¡Felicidades! Ya has aprobado.\")\n",
    "\n",
    "\n"
   ]
  },
  {
   "cell_type": "markdown",
   "id": "be84b2ef-02dc-4f3a-b954-56538a1e03b2",
   "metadata": {},
   "source": [
    "## Ejercicio 3"
   ]
  },
  {
   "cell_type": "code",
   "execution_count": 15,
   "id": "bde83617-006c-4f76-8de2-a6bdcbd5b1ff",
   "metadata": {
    "tags": []
   },
   "outputs": [
    {
     "name": "stdin",
     "output_type": "stream",
     "text": [
      "Ingrese el primer número (mayor):  10\n",
      "Ingrese el segundo número:  2\n"
     ]
    },
    {
     "name": "stdout",
     "output_type": "stream",
     "text": [
      "La suma de todos los números entre 10 y 2 es: 54\n"
     ]
    }
   ],
   "source": [
    "num1 = int(input(\"Ingrese el primer número (mayor): \"))\n",
    "num2 = int(input(\"Ingrese el segundo número: \"))\n",
    "\n",
    "def nums(num1, num2):\n",
    "    suma = 0\n",
    "    for i in range(num1, num2 - 1, -1):\n",
    "        suma += i\n",
    "    return suma\n",
    "\n",
    "if num1 <= num2:\n",
    "    print(\"Error: El primer número debe ser mayor que el segundo.\")\n",
    "else:\n",
    "    resultado = nums(num1, num2)\n",
    "    print(f\"La suma de todos los números entre {num1} y {num2} es: {resultado}\")\n",
    "\n"
   ]
  },
  {
   "cell_type": "markdown",
   "id": "32b51af6-e117-4f66-a36e-03af8c5c6db0",
   "metadata": {},
   "source": [
    "## Ejercicio 4"
   ]
  },
  {
   "cell_type": "code",
   "execution_count": null,
   "id": "8252a5ee-d399-4d55-82a8-4ba90d0f084f",
   "metadata": {
    "tags": []
   },
   "outputs": [],
   "source": [
    "numero = int(input(\"Ingrese un número mayor que 0: \"))\n",
    "   \n",
    "def factores(numero):\n",
    "    factor = 1\n",
    "    print(\"Factores:\", end=\" \")\n",
    "    while factor <= numero:\n",
    "        if numero % factor == 0:\n",
    "            print(factor, end=\" \")\n",
    "        factor += 1\n",
    "        \n",
    "factores(numero)\n",
    "\n",
    "\n"
   ]
  },
  {
   "cell_type": "markdown",
   "id": "04d263f5-4564-42bf-a40e-d3ae2d16b309",
   "metadata": {},
   "source": [
    "## Ejercicio 5"
   ]
  },
  {
   "cell_type": "code",
   "execution_count": null,
   "id": "54a5e7d5-9dfb-4d04-a48d-72ed7a3f66b2",
   "metadata": {
    "tags": []
   },
   "outputs": [],
   "source": [
    "from datetime import datetime\n",
    "\n",
    "dia_nacimiento = int(input(\"Ingrese el día de nacimiento (1-31): \"))\n",
    "mes_nacimiento = int(input(\"Ingrese el mes de nacimiento (1-12): \"))\n",
    "anio_nacimiento = int(input(\"Ingrese el año de nacimiento (ej. 1990): \"))\n",
    "\n",
    "\n",
    "def calculo(dia_nacimiento, mes_nacimiento, anio_nacimiento):\n",
    "    hoy = datetime.now()\n",
    "    nacimiento = datetime(anio_nacimiento, mes_nacimiento, dia_nacimiento)\n",
    "    edad = hoy - nacimiento\n",
    "\n",
    "    anios = edad.days // 365\n",
    "    meses = (edad.days % 365) // 30\n",
    "    dias = (edad.days % 365) % 30\n",
    "\n",
    "    return anios, meses, dias\n",
    "\n",
    "anios, meses, dias = calculo(dia_nacimiento, mes_nacimiento, anio_nacimiento)\n",
    "print(\"Edad:\")\n",
    "print(f\"Años: {anios}\")\n",
    "print(f\"Meses: {meses}\")\n",
    "print(f\"Días: {dias}\")\n",
    "\n"
   ]
  },
  {
   "cell_type": "markdown",
   "id": "ceb04c59-1cfb-4f62-a550-900491222025",
   "metadata": {},
   "source": [
    "## Ejercicio 6"
   ]
  },
  {
   "cell_type": "code",
   "execution_count": null,
   "id": "d278fe75-111a-4436-894b-5707f25a7ed9",
   "metadata": {
    "tags": []
   },
   "outputs": [],
   "source": []
  }
 ],
 "metadata": {
  "kernelspec": {
   "display_name": "Python 3 (ipykernel)",
   "language": "python",
   "name": "python3"
  },
  "language_info": {
   "codemirror_mode": {
    "name": "ipython",
    "version": 3
   },
   "file_extension": ".py",
   "mimetype": "text/x-python",
   "name": "python",
   "nbconvert_exporter": "python",
   "pygments_lexer": "ipython3",
   "version": "3.11.5"
  }
 },
 "nbformat": 4,
 "nbformat_minor": 5
}
