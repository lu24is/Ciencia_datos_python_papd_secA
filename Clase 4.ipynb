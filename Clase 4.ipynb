{
 "cells": [
  {
   "cell_type": "markdown",
   "id": "41cd456d-4af5-426a-aa1e-90634765ae8a",
   "metadata": {},
   "source": [
    "# Ejercicio 1"
   ]
  },
  {
   "cell_type": "markdown",
   "id": "221e739f-96d7-4b6d-9881-c1fa256e39ad",
   "metadata": {},
   "source": [
    "Haga una función en Python que reciba un numero entero y que muestre la tabla de multiplicar del 1 al 10 de dicho numero."
   ]
  },
  {
   "cell_type": "code",
   "execution_count": 2,
   "id": "2d4e8b80-915a-4efd-a015-b8bcda2df011",
   "metadata": {
    "tags": []
   },
   "outputs": [
    {
     "name": "stdin",
     "output_type": "stream",
     "text": [
      "Ingrese un número:  5\n"
     ]
    },
    {
     "name": "stdout",
     "output_type": "stream",
     "text": [
      "5*1=5\n",
      "5*2=10\n",
      "5*3=15\n",
      "5*4=20\n",
      "5*5=25\n",
      "5*6=30\n",
      "5*7=35\n",
      "5*8=40\n",
      "5*9=45\n",
      "5*10=50\n"
     ]
    }
   ],
   "source": [
    "numero = int(input(\"Ingrese un número: \"))\n",
    "contador = 1\n",
    "\n",
    "while(contador <=10):\n",
    "        multiplicacion = numero * contador\n",
    "        print(f\"{numero}*{contador}={multiplicacion}\")\n",
    "        contador = contador + 1"
   ]
  },
  {
   "cell_type": "code",
   "execution_count": 3,
   "id": "8c332b31-15eb-4dfb-a2bf-5418b11fb307",
   "metadata": {
    "tags": []
   },
   "outputs": [],
   "source": [
    "def multiplicacion(numero):\n",
    "    contador = 1\n",
    "\n",
    "    while(contador <=10):\n",
    "            multiplicacion = numero * contador\n",
    "            print(f\"{numero}*{contador}={multiplicacion}\")\n",
    "            contador = contador + 1"
   ]
  },
  {
   "cell_type": "code",
   "execution_count": 4,
   "id": "b7f1e450-05d7-4f4c-8e34-2e30a2540ef0",
   "metadata": {
    "tags": []
   },
   "outputs": [
    {
     "name": "stdout",
     "output_type": "stream",
     "text": [
      "7*1=7\n",
      "7*2=14\n",
      "7*3=21\n",
      "7*4=28\n",
      "7*5=35\n",
      "7*6=42\n",
      "7*7=49\n",
      "7*8=56\n",
      "7*9=63\n",
      "7*10=70\n"
     ]
    }
   ],
   "source": [
    "multiplicacion(7)"
   ]
  },
  {
   "cell_type": "code",
   "execution_count": 5,
   "id": "553cb6da-4d0c-43fe-84c8-9429ca9802e4",
   "metadata": {
    "tags": []
   },
   "outputs": [
    {
     "name": "stdout",
     "output_type": "stream",
     "text": [
      "8*1=8\n",
      "8*2=16\n",
      "8*3=24\n",
      "8*4=32\n",
      "8*5=40\n",
      "8*6=48\n",
      "8*7=56\n",
      "8*8=64\n",
      "8*9=72\n",
      "8*10=80\n"
     ]
    }
   ],
   "source": [
    "    n = 8\n",
    "    resultado = 0\n",
    "    for i in range(1,11):\n",
    "            resultado = i * n\n",
    "            print(f\"{n}*{i}={resultado}\")\n"
   ]
  },
  {
   "cell_type": "markdown",
   "id": "ad21c344-b046-41cf-a786-e9b52ed0d9b2",
   "metadata": {},
   "source": [
    "# Ejercicio 2"
   ]
  },
  {
   "cell_type": "markdown",
   "id": "10f56457-f9d3-48d9-839f-7c9d54cd0299",
   "metadata": {},
   "source": [
    "Escribir un programa que pida al usuario un número entero positivo y muestre por pantalla todos los números impares desde 1 hasta ese número separados por comas."
   ]
  },
  {
   "cell_type": "code",
   "execution_count": 28,
   "id": "07979355-72be-476d-a568-5b4124bccfc8",
   "metadata": {
    "tags": []
   },
   "outputs": [
    {
     "name": "stdin",
     "output_type": "stream",
     "text": [
      "Introduce un número entero positivo:  1\n"
     ]
    },
    {
     "name": "stdout",
     "output_type": "stream",
     "text": [
      "1, "
     ]
    }
   ],
   "source": [
    " n = int(input(\"Introduce un número entero positivo: \"))\n",
    "for i in range(1, n+1, 2):\n",
    "    print(i, end=\", \")"
   ]
  },
  {
   "cell_type": "code",
   "execution_count": 18,
   "id": "e946db3c-9e8c-4521-bd72-a5534cc1bea0",
   "metadata": {
    "tags": []
   },
   "outputs": [],
   "source": [
    "def nume(n):\n",
    "    \n",
    "    for i in range(1, n+1, 2):\n",
    "        print(i, end=\", \")"
   ]
  },
  {
   "cell_type": "code",
   "execution_count": 22,
   "id": "af39a1d3-bd59-4908-a2a1-a2feba6f9257",
   "metadata": {
    "tags": []
   },
   "outputs": [
    {
     "name": "stdout",
     "output_type": "stream",
     "text": [
      "1, 3, 5, 7, 9, 11, 13, 15, 17, 19, 21, 23, 25, 27, "
     ]
    }
   ],
   "source": [
    "nume(28)"
   ]
  },
  {
   "cell_type": "code",
   "execution_count": 4,
   "id": "06a2cea2-3135-4ea6-adf4-7610bdd3d83c",
   "metadata": {
    "tags": []
   },
   "outputs": [
    {
     "name": "stdout",
     "output_type": "stream",
     "text": [
      "1, 3, 5, 7, 9\n"
     ]
    }
   ],
   "source": [
    "val = 9\n",
    "i = 1\n",
    "salida = ''\n",
    "while(i <= val):\n",
    "    if((i%2) == 1):\n",
    "        salida = salida + str(i) + \", \"\n",
    "    i = i+1\n",
    "print(salida[:-2])\n",
    "        "
   ]
  },
  {
   "cell_type": "code",
   "execution_count": 5,
   "id": "d2c5ffb0-c079-46c4-b822-ef1d702c86a8",
   "metadata": {
    "tags": []
   },
   "outputs": [],
   "source": [
    "def imprimir_impares(val):    \n",
    "    \n",
    "    i = 1\n",
    "    salida = ''\n",
    "    while(i <= val):\n",
    "        if((i%2) == 1):\n",
    "            salida = salida + str(i) + \", \"\n",
    "        i = i+1\n",
    "    return salida[:-2]\n",
    "        "
   ]
  },
  {
   "cell_type": "code",
   "execution_count": 6,
   "id": "c439383d-a478-4e1c-92ba-cdb0467e393f",
   "metadata": {
    "tags": []
   },
   "outputs": [
    {
     "data": {
      "text/plain": [
       "'1, 3, 5, 7, 9'"
      ]
     },
     "execution_count": 6,
     "metadata": {},
     "output_type": "execute_result"
    }
   ],
   "source": [
    "imprimir_impares(10)"
   ]
  }
 ],
 "metadata": {
  "kernelspec": {
   "display_name": "Python 3 (ipykernel)",
   "language": "python",
   "name": "python3"
  },
  "language_info": {
   "codemirror_mode": {
    "name": "ipython",
    "version": 3
   },
   "file_extension": ".py",
   "mimetype": "text/x-python",
   "name": "python",
   "nbconvert_exporter": "python",
   "pygments_lexer": "ipython3",
   "version": "3.11.5"
  }
 },
 "nbformat": 4,
 "nbformat_minor": 5
}
